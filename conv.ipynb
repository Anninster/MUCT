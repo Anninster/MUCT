{
 "cells": [
  {
   "cell_type": "markdown",
   "metadata": {},
   "source": [
    "# Second model: convolutions\n",
    "## Data augmentation, learning rate decay, dropout."
   ]
  },
  {
   "cell_type": "code",
   "execution_count": 2,
   "metadata": {},
   "outputs": [
    {
     "name": "stdout",
     "output_type": "stream",
     "text": [
      "done loading libraries\n"
     ]
    }
   ],
   "source": [
    "%matplotlib inline\n",
    "\n",
    "import numpy as np\n",
    "import matplotlib\n",
    "matplotlib.use('TkAgg', warn = False)\n",
    "from matplotlib import pyplot\n",
    "import os\n",
    "import time\n",
    "\n",
    "from pandas import DataFrame\n",
    "from pandas.io.parsers import read_csv\n",
    "from sklearn.utils import shuffle\n",
    "from sklearn.model_selection import train_test_split\n",
    "from nolearn.lasagne import BatchIterator\n",
    "import tensorflow as tf\n",
    "print(\"done loading libraries\")"
   ]
  },
  {
   "cell_type": "markdown",
   "metadata": {},
   "source": [
    "## Loading data"
   ]
  },
  {
   "cell_type": "markdown",
   "metadata": {},
   "source": [
    "Paths to datasets."
   ]
  },
  {
   "cell_type": "code",
   "execution_count": 3,
   "metadata": {},
   "outputs": [
    {
     "name": "stdout",
     "output_type": "stream",
     "text": [
      "D:\\FYP\\CNN\\muct-master\\allimger\\data\\train.csv\n",
      "D:\\FYP\\CNN\\muct-master\\allimger\\data\\test.csv\n"
     ]
    }
   ],
   "source": [
    "FROOT = os.getcwd() # Path to your project folder\n",
    "FTRAIN = FROOT + '\\data\\\\train.csv'\n",
    "print(FTRAIN)\n",
    "FTEST = FROOT + '\\data\\\\test.csv'\n",
    "print(FTEST)\n",
    "#FLOOKUP = FROOT + '/data/IdLookupTable.csv'\n",
    "Irows=640\n",
    "Icols=480"
   ]
  },
  {
   "cell_type": "code",
   "execution_count": 4,
   "metadata": {},
   "outputs": [],
   "source": [
    "def scaley(y,rows,cols):\n",
    "\t#loop for rows\n",
    "\tdr=cols/2\n",
    "\tfor i in range(0,152,2):\n",
    "\t\ty[:,i]=y[:,i]/dr\n",
    "\t#loop for cols\n",
    "\tdc=rows/2\n",
    "\tfor i in range(1,152,2):\n",
    "\t\ty[:,i]=y[:,i]/dc\n",
    "\treturn y\n",
    "\n",
    "def load(test = False, cols = None):\n",
    "    \"\"\"\n",
    "    Loads the dataset.\n",
    "    \n",
    "    Parameters\n",
    "    ----------\n",
    "    test     : optional, defaults to `False`\n",
    "               Flag indicating if we need to load from `FTEST` (`True`) or FTRAIN (`False`)\n",
    "    cols     : optional, defaults to `None`\n",
    "               A list of columns you're interested in. If specified only returns these columns.\n",
    "    Returns\n",
    "    -------\n",
    "    A tuple of X and y, if `test` was set to `True` y contains `None`.    \n",
    "    \"\"\"\n",
    "    \n",
    "    fname = FTEST if test else FTRAIN\n",
    "    df = read_csv(os.path.expanduser(fname))  # load pandas dataframe\n",
    "\n",
    "    # The Image column has pixel values separated by space; convert\n",
    "    # the values to numpy arrays:\n",
    "    df['image'] = df['image'].apply(lambda im: np.fromstring(im, sep = ','))\n",
    "\n",
    "    if cols:  # get a subset of columns\n",
    "        df = df[list(cols) + ['image']]\n",
    "\n",
    "    print(df.count())  # prints the number of values for each column\n",
    "    df = df.dropna()  # drop all rows that have missing values in them\n",
    "\n",
    "    X = np.vstack(df['image'].values) / 255.  # scale pixel values to [0, 1]\n",
    "    X = X.astype(np.float32)\n",
    "\n",
    "    if not test:  # only FTRAIN has any target columns\n",
    "        y = df[df.columns[4:-1]].values\n",
    "        y = scaley(y,640,480)   #(y - 48) / 48   scale target coordinates to [-1, 1]\n",
    "        X, y = shuffle(X, y, random_state=42)  # shuffle train data\n",
    "        y = y.astype(np.float32)\n",
    "    else:\n",
    "        y = None\n",
    "\n",
    "    return X, y"
   ]
  },
  {
   "cell_type": "code",
   "execution_count": 5,
   "metadata": {},
   "outputs": [],
   "source": [
    "def plot_sample(x, y, axis):\n",
    "    \"\"\"\n",
    "    Plots a single sample image with keypoints on top.\n",
    "    \n",
    "    Parameters\n",
    "    ----------\n",
    "    x     : \n",
    "            Image data.\n",
    "    y     : \n",
    "            Keypoints to plot.\n",
    "    axis  :\n",
    "            Plot over which to draw the sample.   \n",
    "    \"\"\"\n",
    "    img = x.reshape(Irows, Icols)\n",
    "    axis.imshow(img, cmap='gray')\n",
    "    axis.scatter(y[0::2] * 240 + 240, y[1::2] * 320 + 320, marker='x', s=10)"
   ]
  },
  {
   "cell_type": "code",
   "execution_count": 6,
   "metadata": {},
   "outputs": [],
   "source": [
    "num_channels = 1 # grayscale\n",
    "image_size = 96\n",
    "\n",
    "def load2d(test = False, cols = None):\n",
    "    X, y = load(test = test)\n",
    "    X = X.reshape(-1, Irows, Icols, num_channels)\n",
    "    return X, y"
   ]
  },
  {
   "cell_type": "markdown",
   "metadata": {},
   "source": [
    "Load the training dataset."
   ]
  },
  {
   "cell_type": "code",
   "execution_count": 7,
   "metadata": {},
   "outputs": [
    {
     "name": "stdout",
     "output_type": "stream",
     "text": [
      "Index     1689\n",
      "name      1689\n",
      "f_name    1689\n",
      "f_loc     1689\n",
      "x00       1689\n",
      "y00       1689\n",
      "x01       1689\n",
      "y01       1689\n",
      "x02       1689\n",
      "y02       1689\n",
      "x03       1689\n",
      "y03       1689\n",
      "x04       1689\n",
      "y04       1689\n",
      "x05       1689\n",
      "y05       1689\n",
      "x06       1689\n",
      "y06       1689\n",
      "x07       1689\n",
      "y07       1689\n",
      "x08       1689\n",
      "y08       1689\n",
      "x09       1689\n",
      "y09       1689\n",
      "x10       1689\n",
      "y10       1689\n",
      "x11       1689\n",
      "y11       1689\n",
      "x12       1689\n",
      "y12       1689\n",
      "          ... \n",
      "y61       1689\n",
      "x62       1689\n",
      "y62       1689\n",
      "x63       1689\n",
      "y63       1689\n",
      "x64       1689\n",
      "y64       1689\n",
      "x65       1689\n",
      "y65       1689\n",
      "x66       1689\n",
      "y66       1689\n",
      "x67       1689\n",
      "y67       1689\n",
      "x68       1689\n",
      "y68       1689\n",
      "x69       1689\n",
      "y69       1689\n",
      "x70       1689\n",
      "y70       1689\n",
      "x71       1689\n",
      "y71       1689\n",
      "x72       1689\n",
      "y72       1689\n",
      "x73       1689\n",
      "y73       1689\n",
      "x74       1689\n",
      "y74       1689\n",
      "x75       1689\n",
      "y75       1689\n",
      "image     1689\n",
      "Length: 157, dtype: int64\n",
      "done loading traing dataset\n"
     ]
    }
   ],
   "source": [
    "X, y = load2d()\n",
    "print(\"done loading traing dataset\")"
   ]
  },
  {
   "cell_type": "markdown",
   "metadata": {},
   "source": [
    "Split the initial training dataset into training, validation and testing datasets."
   ]
  },
  {
   "cell_type": "code",
   "execution_count": 8,
   "metadata": {},
   "outputs": [
    {
     "name": "stdout",
     "output_type": "stream",
     "text": [
      "done spliting\n"
     ]
    }
   ],
   "source": [
    "x_train, x_test, y_train, y_test = train_test_split(X, y, test_size = 0.3)\n",
    "x_test, x_valid, y_test, y_valid = train_test_split(x_test, y_test, test_size = 0.5)\n",
    "print(\"done spliting\")"
   ]
  },
  {
   "cell_type": "markdown",
   "metadata": {},
   "source": [
    "This is our data augmentation routine. It randomly flips a defined portion of dataset horizontally."
   ]
  },
  {
   "cell_type": "code",
   "execution_count": 9,
   "metadata": {},
   "outputs": [],
   "source": [
    "\n",
    "class FlipBatchIterator(BatchIterator):\n",
    "    \"\"\"\n",
    "    Batch iterator that randomly flips a defined portion of dataset horizontally.\n",
    "    \"\"\"\n",
    "    \n",
    "    flip_indices = [\n",
    "        (0,28),(1,29),(2,26),(3,27),(4,24),\n",
    "        (5,25),(6,22),(7,23),(8,20),(9,21),\n",
    "        (10,18),(11,19),(12,16),(13,17),(30,42),\n",
    "        (31,43),(32,44),(33,45),(34,46),(35,47),\n",
    "        (36,48),(37,49),(38,50),(39,51),(40,52),\n",
    "        (41,53),(54,64),(55,65),(56,66),(57,67),\n",
    "        (58,68),(59,69),(60,70),(61,71),(62,72),\n",
    "        (63,73),(74,90),(75,91),(76,88),(77,89),\n",
    "        (78,86),(79,87),(80,84),(81,85),(92,94),\n",
    "        (93,95),(96,108),(97,109),(98,106),(99,107),\n",
    "        (100,104),(101,105),(110,118),(111,119),\n",
    "        (112,116),(113,117),(120,124),(121,125),\n",
    "        (126,130),(127,131),(136,144),(137,145),\n",
    "        (138,146),(139,147),(140,148),(141,149),\n",
    "        (142,150),(143,151)\n",
    "        ]\n",
    "\n",
    "    def transform(self, Xb, yb):\n",
    "        Xb, yb = super(FlipBatchIterator, self).transform(Xb, yb)\n",
    "\n",
    "        # Flip half of the images in this batch at random:\n",
    "        bs = Xb.shape[0]\n",
    "        indices = np.random.choice(bs, int(bs / 2), replace=False)\n",
    "        Xb[indices] = Xb[indices, :, ::-1, :]\n",
    "\n",
    "        if yb is not None:\n",
    "            # Horizontal flip of all x coordinates:\n",
    "            yb[indices, ::2] = yb[indices, ::2] * -1\n",
    "\n",
    "            # Swap places, e.g. left_eye_center_x -> right_eye_center_x\n",
    "            for a, b in self.flip_indices:\n",
    "                yb[indices, a], yb[indices, b] = (\n",
    "                    yb[indices, b], yb[indices, a])\n",
    "\n",
    "        return Xb, yb"
   ]
  },
  {
   "cell_type": "markdown",
   "metadata": {},
   "source": [
    "Try flipping a sample batch of images and plot it to verify it's all good. What you should see is half of images flipped."
   ]
  },
  {
   "cell_type": "code",
   "execution_count": 10,
   "metadata": {},
   "outputs": [
    {
     "name": "stdout",
     "output_type": "stream",
     "text": [
      "done line 10\n"
     ]
    }
   ],
   "source": [
    "batch_iterator = FlipBatchIterator(batch_size = 10)\n",
    "for x_batch, y_batch in batch_iterator(X.copy(), y.copy()):\n",
    "    for i in range(1):        \n",
    "        # plot two images:\n",
    "        fig = pyplot.figure(figsize=(6, 3))\n",
    "        ax = fig.add_subplot(1, 2, 1, xticks=[], yticks=[])\n",
    "        plot_sample(X[i], y[i], ax)\n",
    "        ax = fig.add_subplot(1, 2, 2, xticks=[], yticks=[])\n",
    "        plot_sample(x_batch[i], y_batch[i], ax)\n",
    "        pyplot.show()\n",
    "    break\n",
    "print(\"done line 10\")"
   ]
  },
  {
   "cell_type": "markdown",
   "metadata": {},
   "source": [
    "## Parameters"
   ]
  },
  {
   "cell_type": "code",
   "execution_count": 11,
   "metadata": {},
   "outputs": [],
   "source": [
    "# Predefined parameters\n",
    "num_keypoints = 152\n",
    "batch_size = 36\n",
    "num_epochs = 1001\n",
    "\n",
    "data_augmentation = True\n",
    "learning_rate_decay = True\n",
    "momentum_increase = True\n",
    "dropout = True\n",
    "\n",
    "# We will encode model settings in its name: architecture, batch size, number of epochs and optimisations applied.\n",
    "model_name = \"MUCTmodel\"+\"_3con_2fc_b\" + str(batch_size) + \"_e\" + str(num_epochs - 1)\n",
    "if data_augmentation:\n",
    "    model_name += \"_aug\"\n",
    "if learning_rate_decay:\n",
    "    model_name += \"_lrdec\"\n",
    "if momentum_increase:\n",
    "    model_name += \"_mominc\"\n",
    "if dropout:\n",
    "    model_name += \"_dr\"\n",
    "    \n",
    "model_variable_scope = model_name\n",
    "root_location = FROOT + \"/models/\"\n",
    "model_path = root_location + model_name + \"/model.ckpt\"\n",
    "train_history_path = root_location + model_name + \"/train_history\"\n",
    "\n",
    "os.makedirs(root_location + model_name + \"/\", exist_ok = True)"
   ]
  },
  {
   "cell_type": "markdown",
   "metadata": {},
   "source": [
    "## Routines"
   ]
  },
  {
   "cell_type": "markdown",
   "metadata": {},
   "source": [
    "Performs a single fully connected layer pass, e.g. returns `input * weights + bias`:"
   ]
  },
  {
   "cell_type": "code",
   "execution_count": 12,
   "metadata": {},
   "outputs": [],
   "source": [
    "def fully_connected(input, size):\n",
    "    \"\"\"\n",
    "    Creates a fully connected TensorFlow layer.\n",
    "    \n",
    "    Parameters\n",
    "    ----------\n",
    "    input  : \n",
    "            Input tensor for calculating layer shape.\n",
    "    size   : \n",
    "            Layer size, e.g. number of units.\n",
    "               \n",
    "    Returns\n",
    "    -------\n",
    "    A graph variable calculating single fully connected layer.\n",
    "    \"\"\"\n",
    "    weights = tf.get_variable( 'weights', \n",
    "        shape = [input.get_shape()[1], size],\n",
    "        initializer = tf.contrib.layers.xavier_initializer()\n",
    "      )\n",
    "    biases = tf.get_variable( 'biases',\n",
    "        shape = [size],\n",
    "        initializer=tf.constant_initializer(0.0)\n",
    "      )\n",
    "    return tf.matmul(input, weights) + biases\n",
    "\n",
    "def fully_connected_relu(input, size):\n",
    "    \"\"\"\n",
    "    Creates a fully connected TensorFlow layer with ReLU non-linearity applied.\n",
    "    \"\"\"\n",
    "    return tf.nn.relu(fully_connected(input, size))"
   ]
  },
  {
   "cell_type": "markdown",
   "metadata": {},
   "source": [
    "Routine for a single convolution layer pass."
   ]
  },
  {
   "cell_type": "code",
   "execution_count": 13,
   "metadata": {},
   "outputs": [],
   "source": [
    "def conv_relu(input, kernel_size, depth):\n",
    "    \"\"\"\n",
    "    Creates a convolutional TensorFlow layer followed by a ReLU.\n",
    "    \n",
    "    Parameters\n",
    "    ----------\n",
    "    input         : \n",
    "                    Input tensor for calculating layer shape.\n",
    "    kernel_rsize   : \n",
    "                    Kernel row size.\n",
    "    kernel_csize   : \n",
    "                    Kernel column size.\n",
    "    depth         : \n",
    "                    Layer depth, e.g. number of units.\n",
    "               \n",
    "    Returns\n",
    "    -------\n",
    "    A graph variable calculating convolutional layer with applied ReLU.\n",
    "    \"\"\"\n",
    "    weights = tf.get_variable( 'weights', \n",
    "        shape = [kernel_size, kernel_size, input.get_shape()[3], depth],\n",
    "        initializer = tf.contrib.layers.xavier_initializer()\n",
    "      )\n",
    "    biases = tf.get_variable( 'biases',\n",
    "        shape = [depth],\n",
    "        initializer=tf.constant_initializer(0.0)\n",
    "      )\n",
    "    conv = tf.nn.conv2d(input, weights,\n",
    "        strides=[1, 1, 1, 1], padding='SAME')\n",
    "    return tf.nn.relu(conv + biases)"
   ]
  },
  {
   "cell_type": "markdown",
   "metadata": {},
   "source": [
    "Routine for a pooling layer."
   ]
  },
  {
   "cell_type": "code",
   "execution_count": 14,
   "metadata": {},
   "outputs": [],
   "source": [
    "def pool(input, size):\n",
    "    \"\"\"\n",
    "    Performs max pooling.\n",
    "    \n",
    "    Parameters\n",
    "    ----------\n",
    "    input  : \n",
    "            Input tensor.\n",
    "    rsize   : \n",
    "            Pooling kernel row size.\n",
    "    csize   : \n",
    "            Pooling kernel  column size.\n",
    "               \n",
    "    Returns\n",
    "    -------\n",
    "    A graph variable calculating single max pooling layer.\n",
    "    \"\"\"\n",
    "    return tf.nn.max_pool(\n",
    "        input, \n",
    "        ksize=[1, size, size, 1], \n",
    "        strides=[1, size, size, 1], \n",
    "        padding='SAME'\n",
    "    )"
   ]
  },
  {
   "cell_type": "markdown",
   "metadata": {},
   "source": [
    "Routine that performs entire model pass, e.g. returns model prediction for given input with current model (3 convolution layers with 2 fully connected layers):"
   ]
  },
  {
   "cell_type": "code",
   "execution_count": 15,
   "metadata": {},
   "outputs": [],
   "source": [
    "def model_pass(input, training):\n",
    "    \"\"\"\n",
    "    Performs a whole model pass.\n",
    "    \n",
    "    Parameters\n",
    "    ----------\n",
    "    input     : \n",
    "                Input tensor to be passed through the model.\n",
    "    training  : \n",
    "                Tensorflow flag indicating if we are training or evaluating our model \n",
    "                (so that we know if we should apply dropout).\n",
    "               \n",
    "    Returns\n",
    "    -------\n",
    "    Model prediction.\n",
    "    \"\"\"\n",
    "    # Convolutional layers\n",
    "    with tf.variable_scope('conv1'):\n",
    "        conv1 = conv_relu(input, kernel_size = 3, depth = 32) \n",
    "        pool1 = pool(conv1, size = 2)\n",
    "        # Apply dropout if needed\n",
    "        pool1 = tf.cond(training, lambda: tf.nn.dropout(pool1, keep_prob = 0.9 if dropout else 1.0), lambda: pool1)\n",
    "    with tf.variable_scope('conv2'):\n",
    "        conv2 = conv_relu(pool1, kernel_size = 2, depth = 64)\n",
    "        pool2 = pool(conv2, size = 2)\n",
    "        # Apply dropout if needed\n",
    "        pool2 = tf.cond(training, lambda: tf.nn.dropout(pool2, keep_prob = 0.8 if dropout else 1.0), lambda: pool2)\n",
    "    with tf.variable_scope('conv3'):\n",
    "        conv3 = conv_relu(pool2, kernel_size = 2, depth = 128)\n",
    "        pool3 = pool(conv3, size = 2)\n",
    "        # Apply dropout if needed\n",
    "        pool3 = tf.cond(training, lambda: tf.nn.dropout(pool3, keep_prob = 0.7 if dropout else 1.0), lambda: pool3)\n",
    "    \n",
    "    # Flatten convolutional layers output\n",
    "    shape = pool3.get_shape().as_list()\n",
    "    flattened = tf.reshape(pool3, [-1, shape[1] * shape[2] * shape[3]])\n",
    "    \n",
    "    # Fully connected layers\n",
    "    with tf.variable_scope('fc4'):\n",
    "        fc4 = fully_connected_relu(flattened, size = 1000)\n",
    "        # Apply dropout if needed\n",
    "        fc4 = tf.cond(training, lambda: tf.nn.dropout(fc4, keep_prob = 0.5 if dropout else 1.0), lambda: fc4)\n",
    "    with tf.variable_scope('fc5'):\n",
    "        fc5 = fully_connected_relu(fc4, size = 1000)\n",
    "    with tf.variable_scope('out'):\n",
    "        prediction = fully_connected(fc5, size = num_keypoints)\n",
    "    return prediction"
   ]
  },
  {
   "cell_type": "markdown",
   "metadata": {},
   "source": [
    "Calculates loss based on model predictions."
   ]
  },
  {
   "cell_type": "code",
   "execution_count": 16,
   "metadata": {},
   "outputs": [],
   "source": [
    "def calc_loss(predictions, labels):\n",
    "    \"\"\"\n",
    "    Calculates loss with NumPy.\n",
    "    \n",
    "    Parameters\n",
    "    ----------\n",
    "    predictions : ndarray \n",
    "                  Predictions.\n",
    "    labels      : ndarray\n",
    "                  Actual values.\n",
    "               \n",
    "    Returns\n",
    "    -------\n",
    "    Squared mean error for given predictions.\n",
    "    \"\"\"\n",
    "    return np.mean(np.square(predictions - labels))"
   ]
  },
  {
   "cell_type": "markdown",
   "metadata": {},
   "source": [
    "Calculates time since `start` and formats as a string."
   ]
  },
  {
   "cell_type": "code",
   "execution_count": 17,
   "metadata": {},
   "outputs": [],
   "source": [
    "def get_time_hhmmss(start):\n",
    "    \"\"\"\n",
    "    Calculates time since `start` and formats as a string.\n",
    "    \n",
    "    Parameters\n",
    "    ----------\n",
    "    start :  \n",
    "            Time starting point.\n",
    "               \n",
    "    Returns\n",
    "    -------\n",
    "    Nicely formatted time difference between now and `start`.\n",
    "    \"\"\"\n",
    "    end = time.time()\n",
    "    m, s = divmod(end - start, 60)\n",
    "    h, m = divmod(m, 60)\n",
    "    time_str = \"%02d:%02d:%02d\" % (h, m, s)\n",
    "    return time_str"
   ]
  },
  {
   "cell_type": "markdown",
   "metadata": {},
   "source": [
    "## Training"
   ]
  },
  {
   "cell_type": "code",
   "execution_count": 18,
   "metadata": {},
   "outputs": [
    {
     "name": "stdout",
     "output_type": "stream",
     "text": [
      "WARNING:tensorflow:From d:\\anaconda\\envs\\tensorflow\\lib\\site-packages\\tensorflow\\python\\framework\\op_def_library.py:263: colocate_with (from tensorflow.python.framework.ops) is deprecated and will be removed in a future version.\n",
      "Instructions for updating:\n",
      "Colocations handled automatically by placer.\n",
      "\n",
      "WARNING: The TensorFlow contrib module will not be included in TensorFlow 2.0.\n",
      "For more information, please see:\n",
      "  * https://github.com/tensorflow/community/blob/master/rfcs/20180907-contrib-sunset.md\n",
      "  * https://github.com/tensorflow/addons\n",
      "If you depend on functionality not listed there, please file an issue.\n",
      "\n",
      "WARNING:tensorflow:From <ipython-input-15-737c1d2a5439>:22: calling dropout (from tensorflow.python.ops.nn_ops) with keep_prob is deprecated and will be removed in a future version.\n",
      "Instructions for updating:\n",
      "Please use `rate` instead of `keep_prob`. Rate should be set to `rate = 1 - keep_prob`.\n"
     ]
    }
   ],
   "source": [
    "graph = tf.Graph()\n",
    "\n",
    "with graph.as_default():\n",
    "    # Input data. For the training data, we use a placeholder that will be fed at run time with a training minibatch.\n",
    "    tf_x_batch = tf.placeholder(tf.float32, shape = (None, Irows, Icols, num_channels))\n",
    "    tf_y_batch = tf.placeholder(tf.float32, shape = (None, num_keypoints))\n",
    "    is_training = tf.placeholder(tf.bool)\n",
    "\n",
    "    current_epoch = tf.Variable(0)  # count the number of epochs\n",
    "\n",
    "    # Model parameters.\n",
    "    \n",
    "    # Calculate learning rate decay if needed.\n",
    "    if learning_rate_decay:\n",
    "        learning_rate = tf.train.exponential_decay(0.03, current_epoch, decay_steps=num_epochs, decay_rate=0.03)\n",
    "    else:\n",
    "        learning_rate = 0.01\n",
    "        \n",
    "    # Calculate increasing momentum if needed.\n",
    "    if momentum_increase:\n",
    "        m_min = 0.9\n",
    "        m_max = 0.99\n",
    "        momentum = m_min + (m_max - m_min) * (current_epoch / num_epochs) \n",
    "    else:\n",
    "        momentum = 0.9\n",
    "    \n",
    "    # Training computation.\n",
    "    with tf.variable_scope(model_variable_scope):\n",
    "        predictions = model_pass(tf_x_batch, is_training)\n",
    "    \n",
    "    loss = tf.reduce_mean(tf.square(predictions - tf_y_batch))\n",
    "\n",
    "    # Optimizer.\n",
    "    optimizer = tf.train.MomentumOptimizer(\n",
    "        learning_rate = learning_rate, \n",
    "        momentum = momentum, \n",
    "        use_nesterov = True\n",
    "    ).minimize(loss)"
   ]
  },
  {
   "cell_type": "code",
   "execution_count": 19,
   "metadata": {},
   "outputs": [],
   "source": [
    "def get_predictions_in_batches(X, session):\n",
    "    \"\"\"\n",
    "    Calculates predictions in batches of 128 examples at a time, using `session`'s calculation graph.\n",
    "    \n",
    "    Parameters\n",
    "    ----------\n",
    "    X       : ndarray\n",
    "              Dataset to get predictions for.\n",
    "    session :\n",
    "              TensorFlow session to be used for predicting. Is expected to have a `predictions` var \n",
    "              in the graph along with a `tf_x_batch` placeholder for incoming data.\n",
    "               \n",
    "    Returns\n",
    "    -------\n",
    "    N-dimensional array of predictions.\n",
    "    \"\"\"\n",
    "    p = []\n",
    "    batch_iterator = BatchIterator(batch_size = 128)\n",
    "    for x_batch, _ in batch_iterator(X):\n",
    "        [p_batch] = session.run([predictions], feed_dict = {\n",
    "                tf_x_batch : x_batch,\n",
    "                is_training : False\n",
    "            }\n",
    "        )\n",
    "        p.extend(p_batch)\n",
    "    return p"
   ]
  },
  {
   "cell_type": "code",
   "execution_count": null,
   "metadata": {
    "scrolled": false
   },
   "outputs": [
    {
     "name": "stdout",
     "output_type": "stream",
     "text": [
      "============ TRAINING =============\n"
     ]
    }
   ],
   "source": [
    "start = time.time()\n",
    "every_epoch_to_log = 5\n",
    "\n",
    "with tf.Session(graph = graph) as session:\n",
    "    session.run(tf.global_variables_initializer())\n",
    "    saver = tf.train.Saver()\n",
    "    train_loss_history = np.zeros(num_epochs)\n",
    "    valid_loss_history = np.zeros(num_epochs)\n",
    "    print(\"============ TRAINING =============\")\n",
    "    for epoch in range(num_epochs):\n",
    "        current_epoch = epoch\n",
    "        # Train on whole randomised dataset in batches\n",
    "        batch_iterator = FlipBatchIterator(batch_size = batch_size, shuffle = True) if data_augmentation else BatchIterator(batch_size = batch_size, shuffle = True)\n",
    "        for x_batch, y_batch in batch_iterator(x_train, y_train):\n",
    "            session.run([optimizer], feed_dict = {\n",
    "                    tf_x_batch : x_batch, \n",
    "                    tf_y_batch : y_batch,\n",
    "                    is_training : True\n",
    "                }\n",
    "            )\n",
    "\n",
    "        # If another significant epoch ended, we log our losses.\n",
    "        if (epoch % every_epoch_to_log == 0):\n",
    "            # Get training data predictions and log training loss:\n",
    "            train_loss = calc_loss(\n",
    "                get_predictions_in_batches(x_train, session), \n",
    "                y_train\n",
    "            )\n",
    "            train_loss_history[epoch] = train_loss\n",
    "\n",
    "            # Get validation data predictions and log validation loss:\n",
    "            valid_loss = calc_loss(\n",
    "                get_predictions_in_batches(x_valid, session), \n",
    "                y_valid\n",
    "            )\n",
    "            valid_loss_history[epoch] = valid_loss\n",
    "            \n",
    "            if (epoch % 100 == 0):\n",
    "                print(\"--------- EPOCH %4d/%d ---------\" % (epoch, num_epochs))\n",
    "                print(\"     Train loss: %.8f\" % (train_loss))\n",
    "                print(\"Validation loss: %.8f\" % (valid_loss))\n",
    "                print(\"           Time: \" + get_time_hhmmss(start))\n",
    "\n",
    "    # Evaluate on test dataset.\n",
    "    test_loss = calc_loss(\n",
    "        get_predictions_in_batches(x_test, session), \n",
    "        y_test\n",
    "    )\n",
    "    print(\"===================================\")\n",
    "    print(\" Test score: %.3f (loss = %.8f)\" % (np.sqrt(test_loss) * 48.0, test_loss)) \n",
    "    print(\" Total time: \" + get_time_hhmmss(start))\n",
    "    \n",
    "    # Save model weights for future use.\n",
    "    save_path = saver.save(session, model_path)\n",
    "    print(\"Model file: \" + save_path)\n",
    "    np.savez(train_history_path, train_loss_history = train_loss_history, valid_loss_history = valid_loss_history)\n",
    "    print(\"Train history file: \" + train_history_path)"
   ]
  },
  {
   "cell_type": "markdown",
   "metadata": {},
   "source": [
    "## Evaluation"
   ]
  },
  {
   "cell_type": "code",
   "execution_count": 21,
   "metadata": {
    "collapsed": true
   },
   "outputs": [],
   "source": [
    "# Plots history of learning curves for a specific model. You may want to call `pyplot.show()` afterwards.\n",
    "def plot_learning_curves(model = model_name, linewidth = 2, train_linestyle = \"b-\", valid_linestyle = \"g-\"):\n",
    "    \"\"\"\n",
    "    Plots history of learning curves for a specific model based on the saved training history. \n",
    "    You may want to call `pyplot.show()` afterwards.\n",
    "    \n",
    "    Parameters\n",
    "    ----------\n",
    "    model             : optional, defaults to current model name\n",
    "                        Model name.\n",
    "    linewidth         : optional, defaults to 2\n",
    "                        Line thickness.\n",
    "    train_linestyle   : optional, defaults to \"b-\"\n",
    "                        Matplotlib line style for the training curve.\n",
    "    valid_linestyle   : optional, defaults to \"g-\"\n",
    "                        Matplotlib line style for the validation curve.\n",
    "               \n",
    "    Returns\n",
    "    -------\n",
    "    Number of epochs plotted.\n",
    "    \"\"\"\n",
    "    model_history = np.load(root_location + model + \"/train_history.npz\")\n",
    "    train_loss = model_history[\"train_loss_history\"]\n",
    "    valid_loss = model_history[\"valid_loss_history\"]\n",
    "    epochs = train_loss.shape[0]\n",
    "    x_axis = np.arange(epochs)\n",
    "    pyplot.plot(x_axis[train_loss > 0], train_loss[train_loss > 0], train_linestyle, linewidth=linewidth, label=model + \" train\")\n",
    "    pyplot.plot(x_axis[valid_loss > 0], valid_loss[valid_loss > 0], valid_linestyle, linewidth=linewidth, label=model + \" valid\")\n",
    "    return epochs"
   ]
  },
  {
   "cell_type": "code",
   "execution_count": 24,
   "metadata": {},
   "outputs": [
    {
     "data": {
      "image/png": "[encoded data removed]",
      "text/plain": [
       "<matplotlib.figure.Figure at 0x7f3d48e6ef98>"
      ]
     },
     "metadata": {},
     "output_type": "display_data"
    }
   ],
   "source": [
    "new_model_epochs = plot_learning_curves()\n",
    "old_model_epochs = plot_learning_curves(\"1fc_b36_e1000\", linewidth = 1)\n",
    "\n",
    "pyplot.grid()\n",
    "pyplot.legend()\n",
    "pyplot.xlabel(\"epoch\")\n",
    "pyplot.ylabel(\"loss\")\n",
    "pyplot.ylim(0.0008, 0.01)\n",
    "pyplot.xlim(0, max(new_model_epochs, old_model_epochs))\n",
    "pyplot.yscale(\"log\")\n",
    "pyplot.show()"
   ]
  }
 ],
 "metadata": {
  "anaconda-cloud": {},
  "kernelspec": {
   "display_name": "Python 3",
   "language": "python",
   "name": "python3"
  },
  "language_info": {
   "codemirror_mode": {
    "name": "ipython",
    "version": 3
   },
   "file_extension": ".py",
   "mimetype": "text/x-python",
   "name": "python",
   "nbconvert_exporter": "python",
   "pygments_lexer": "ipython3",
   "version": "3.7.3"
  }
 },
 "nbformat": 4,
 "nbformat_minor": 1
}
